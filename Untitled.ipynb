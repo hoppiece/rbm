{
 "cells": [
  {
   "cell_type": "markdown",
   "id": "ee621992-1f43-46c1-806d-435b7376c45d",
   "metadata": {},
   "source": [
    "A Practical Guide to Training RBM (Hinton) を読んだので, 実装に変更"
   ]
  },
  {
   "cell_type": "code",
   "execution_count": 1,
   "id": "9ab1a616-ca76-4f2b-8c47-b16b4db4a550",
   "metadata": {},
   "outputs": [],
   "source": [
    "import torch\n",
    "import torch.nn as nn\n",
    "import torch.nn.functional as F\n",
    "import torch.utils.data"
   ]
  },
  {
   "cell_type": "code",
   "execution_count": 6,
   "id": "770f5c8b-d589-4327-a8e0-2cb551b39811",
   "metadata": {},
   "outputs": [],
   "source": [
    "class RBM_hinton(nn.Module):\n",
    "    def __init__(self, n_vis, n_hid, k=1):\n",
    "        \"\"\"\n",
    "        a: Bias term of visible unit.\n",
    "        b: Bias term of hidden unit.\n",
    "        W: Weight parameter of RBM.\n",
    "        k: The number of gibbs sampling in k-CD method.\n",
    "        \"\"\"\n",
    "        super().__init__()\n",
    "        self.a = nn.Parameter(torch.randn(1, n_vis))\n",
    "        self.b = nn.Parameter(torch.randn(1, n_vis))\n",
    "        self.W = nn.Parameter(torch.randn(n_hid, n_vis))\n",
    "        self.k = k\n",
    "    \n",
    "    def encode(self, v, binarize=True):\n",
    "        # Conditional sampling of h\n",
    "        p = torch.sigmoid(F.linear(v, self.W, self.b))\n",
    "        return p.bernoulli() if binarize else p\n",
    "    \n",
    "    def decode(self, h, binarize=False):\n",
    "        # Conditional sampling of v\n",
    "        p = torch.sigmoid(F.linear(h, self.W.t(), self.a))\n",
    "        return p.bernoulli() if binarize else p\n",
    "    \n",
    "    def gibbs_sampling(self, v):\n",
    "        for _ in range(self.k - 1): # When k=1 (CD1 method), this loop is skipped.\n",
    "            h = self.encode(v) # Binary\n",
    "            v = self.decode(h) # Real\n",
    "        h = self.decode(v, binarize=False) # Real\n",
    "        v = self.encode(h.bernoulli()) # Real\n",
    "        return v, h\n",
    "    \n",
    "    def forward(self, v): # Reconstruction of a image\n",
    "        v, h = self.gibbs_sampling(v)\n",
    "        return v\n",
    "        \n",
    "    def free_energy(self, v):\n",
    "        v_term = torch.matmul(v, self.a.t())\n",
    "        w_x_h = F.linear(v, self.W, self.b)\n",
    "        h_term = torch.sum(F.softplus(w_x_h), dim=1)\n",
    "        return -h_term - v_term\n",
    "    \n",
    "    def loss(self, v):\n",
    "        \n",
    "        \n",
    "        "
   ]
  }
 ],
 "metadata": {
  "kernelspec": {
   "display_name": "Python 3 (ipykernel)",
   "language": "python",
   "name": "python3"
  },
  "language_info": {
   "codemirror_mode": {
    "name": "ipython",
    "version": 3
   },
   "file_extension": ".py",
   "mimetype": "text/x-python",
   "name": "python",
   "nbconvert_exporter": "python",
   "pygments_lexer": "ipython3",
   "version": "3.9.4"
  }
 },
 "nbformat": 4,
 "nbformat_minor": 5
}
