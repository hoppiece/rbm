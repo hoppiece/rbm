{
 "cells": [
  {
   "cell_type": "markdown",
   "id": "ee621992-1f43-46c1-806d-435b7376c45d",
   "metadata": {},
   "source": [
    "A Practical Guide to Training RBM (Hinton) を読んだので, 実装に変更"
   ]
  },
  {
   "cell_type": "code",
   "execution_count": 6,
   "id": "9ab1a616-ca76-4f2b-8c47-b16b4db4a550",
   "metadata": {},
   "outputs": [],
   "source": [
    "import torch\n",
    "import torch.nn as nn\n",
    "import torch.nn.functional as F\n",
    "import torch.utils.data"
   ]
  },
  {
   "cell_type": "code",
   "execution_count": 7,
   "id": "770f5c8b-d589-4327-a8e0-2cb551b39811",
   "metadata": {},
   "outputs": [],
   "source": [
    "from torchvision import datasets, transforms\n",
    "from torchvision.utils import make_grid\n",
    "from models import RBM_hinton, RBM\n",
    "        \n",
    "        \n",
    "        "
   ]
  },
  {
   "cell_type": "code",
   "execution_count": 8,
   "id": "6cdabfca",
   "metadata": {},
   "outputs": [],
   "source": [
    "\n",
    "batch_size = 128 # batch size\n",
    "n_epochs = 10 # number of epochs\n",
    "lr = 0.01 # learning rate\n",
    "n_hid = 100 # number of neurons in the hidden layer\n",
    "n_vis = 28*28 # input size\n",
    "k = 3 # The number of Gibbs sampling\n",
    "train_datasets = datasets.MNIST(\n",
    "    root='./data',\n",
    "    train=True,\n",
    "    download=True,\n",
    "    transform=transforms.Compose([transforms.ToTensor()])\n",
    "    )\n",
    "train_loader = torch.utils.data.DataLoader(\n",
    "    dataset=train_datasets,\n",
    "    batch_size=batch_size,\n",
    "    shuffle=True,\n",
    ")\n",
    "test_datasets = datasets.MNIST(\n",
    "    root=\"./data\",\n",
    "    train=False,\n",
    "    download=True,\n",
    "    transform=transforms.Compose([transforms.ToTensor()])\n",
    ")\n",
    "test_loader = torch.utils.data.DataLoader(\n",
    "    dataset=test_datasets,\n",
    "    batch_size=batch_size,\n",
    "    shuffle=True\n",
    ")"
   ]
  },
  {
   "cell_type": "code",
   "execution_count": null,
   "id": "895a450f",
   "metadata": {},
   "outputs": [],
   "source": [
    "model = RBM(n_vis=n_vis, n_hid=n_hid, k=k).cpu()\n",
    "\n",
    "import numpy as np\n",
    "from tqdm import tqdm\n",
    "\n",
    "loss_ = []\n",
    "optimizer = torch.optim.SGD(model.parameters(), lr=lr)\n",
    "model.train()\n",
    "\n",
    "recon_loss_func = F.mse_loss\n",
    "recon_loss_ = []\n",
    "neuron_fireings = []\n",
    "\n",
    "with tqdm(range(n_epochs)) as t:\n",
    "    for epoch in t:\n",
    "        vv = np.zeros((len(train_datasets), n_hid))\n",
    "        for idx, (data, target) in enumerate(train_loader):\n",
    "            v = data.view(-1, n_vis)\n",
    "            v_gibbs = model(v)\n",
    "            loss = model.free_energy(v) - model.free_energy(v_gibbs)\n",
    "            recon_loss = recon_loss_func(v, v_gibbs)\n",
    "            loss_.append(loss.item())\n",
    "            recon_loss_.append(recon_loss.item())\n",
    "            optimizer.zero_grad()\n",
    "            loss.backward()\n",
    "            optimizer.step()\n",
    "            vv[idx*batch_size:(idx+1)*batch_size, :] = model.visible_to_hidden(v).detach().cpu().numpy()\n",
    "        t.set_description(f\"loss={loss.item():.2}\")\n",
    "        neuron_fireings.append(vv)\n",
    "        \n"
   ]
  },
  {
   "cell_type": "code",
   "execution_count": 9,
   "id": "284f98ec",
   "metadata": {},
   "outputs": [
    {
     "name": "stderr",
     "output_type": "stream",
     "text": [
      "  0%|          | 0/10 [00:00<?, ?it/s]\n"
     ]
    },
    {
     "ename": "AttributeError",
     "evalue": "'RBM_hinton' object has no attribute 'visible_to_hidden'",
     "output_type": "error",
     "traceback": [
      "\u001b[0;31m---------------------------------------------------------------------------\u001b[0m",
      "\u001b[0;31mAttributeError\u001b[0m                            Traceback (most recent call last)",
      "\u001b[0;32m/tmp/ipykernel_3769430/2940155735.py\u001b[0m in \u001b[0;36m<module>\u001b[0;34m\u001b[0m\n\u001b[1;32m     25\u001b[0m             \u001b[0mloss\u001b[0m\u001b[0;34m.\u001b[0m\u001b[0mbackward\u001b[0m\u001b[0;34m(\u001b[0m\u001b[0;34m)\u001b[0m\u001b[0;34m\u001b[0m\u001b[0;34m\u001b[0m\u001b[0m\n\u001b[1;32m     26\u001b[0m             \u001b[0moptimizer\u001b[0m\u001b[0;34m.\u001b[0m\u001b[0mstep\u001b[0m\u001b[0;34m(\u001b[0m\u001b[0;34m)\u001b[0m\u001b[0;34m\u001b[0m\u001b[0;34m\u001b[0m\u001b[0m\n\u001b[0;32m---> 27\u001b[0;31m             \u001b[0mvv\u001b[0m\u001b[0;34m[\u001b[0m\u001b[0midx\u001b[0m\u001b[0;34m*\u001b[0m\u001b[0mbatch_size\u001b[0m\u001b[0;34m:\u001b[0m\u001b[0;34m(\u001b[0m\u001b[0midx\u001b[0m\u001b[0;34m+\u001b[0m\u001b[0;36m1\u001b[0m\u001b[0;34m)\u001b[0m\u001b[0;34m*\u001b[0m\u001b[0mbatch_size\u001b[0m\u001b[0;34m,\u001b[0m \u001b[0;34m:\u001b[0m\u001b[0;34m]\u001b[0m \u001b[0;34m=\u001b[0m \u001b[0mmodel\u001b[0m\u001b[0;34m.\u001b[0m\u001b[0mvisible_to_hidden\u001b[0m\u001b[0;34m(\u001b[0m\u001b[0mv\u001b[0m\u001b[0;34m,\u001b[0m \u001b[0mbinarize\u001b[0m\u001b[0;34m=\u001b[0m\u001b[0;32mFalse\u001b[0m\u001b[0;34m)\u001b[0m\u001b[0;34m.\u001b[0m\u001b[0mdetach\u001b[0m\u001b[0;34m(\u001b[0m\u001b[0;34m)\u001b[0m\u001b[0;34m.\u001b[0m\u001b[0mcpu\u001b[0m\u001b[0;34m(\u001b[0m\u001b[0;34m)\u001b[0m\u001b[0;34m.\u001b[0m\u001b[0mnumpy\u001b[0m\u001b[0;34m(\u001b[0m\u001b[0;34m)\u001b[0m\u001b[0;34m\u001b[0m\u001b[0;34m\u001b[0m\u001b[0m\n\u001b[0m\u001b[1;32m     28\u001b[0m         \u001b[0mt\u001b[0m\u001b[0;34m.\u001b[0m\u001b[0mset_description\u001b[0m\u001b[0;34m(\u001b[0m\u001b[0;34mf\"loss={loss.item():.2}\"\u001b[0m\u001b[0;34m)\u001b[0m\u001b[0;34m\u001b[0m\u001b[0;34m\u001b[0m\u001b[0m\n\u001b[1;32m     29\u001b[0m         \u001b[0mneuron_fireings\u001b[0m\u001b[0;34m.\u001b[0m\u001b[0mappend\u001b[0m\u001b[0;34m(\u001b[0m\u001b[0mvv\u001b[0m\u001b[0;34m)\u001b[0m\u001b[0;34m\u001b[0m\u001b[0;34m\u001b[0m\u001b[0m\n",
      "\u001b[0;32m~/venv/lib/python3.8/site-packages/torch/nn/modules/module.py\u001b[0m in \u001b[0;36m__getattr__\u001b[0;34m(self, name)\u001b[0m\n\u001b[1;32m   1175\u001b[0m             \u001b[0;32mif\u001b[0m \u001b[0mname\u001b[0m \u001b[0;32min\u001b[0m \u001b[0mmodules\u001b[0m\u001b[0;34m:\u001b[0m\u001b[0;34m\u001b[0m\u001b[0;34m\u001b[0m\u001b[0m\n\u001b[1;32m   1176\u001b[0m                 \u001b[0;32mreturn\u001b[0m \u001b[0mmodules\u001b[0m\u001b[0;34m[\u001b[0m\u001b[0mname\u001b[0m\u001b[0;34m]\u001b[0m\u001b[0;34m\u001b[0m\u001b[0;34m\u001b[0m\u001b[0m\n\u001b[0;32m-> 1177\u001b[0;31m         raise AttributeError(\"'{}' object has no attribute '{}'\".format(\n\u001b[0m\u001b[1;32m   1178\u001b[0m             type(self).__name__, name))\n\u001b[1;32m   1179\u001b[0m \u001b[0;34m\u001b[0m\u001b[0m\n",
      "\u001b[0;31mAttributeError\u001b[0m: 'RBM_hinton' object has no attribute 'visible_to_hidden'"
     ]
    }
   ],
   "source": [
    "model = RBM_hinton(n_vis=n_vis, n_hid=n_hid, k=k).cpu()\n",
    "\n",
    "import numpy as np\n",
    "from tqdm import tqdm\n",
    "\n",
    "loss_ = []\n",
    "optimizer = torch.optim.SGD(model.parameters(), lr=lr)\n",
    "model.train()\n",
    "\n",
    "recon_loss_func = F.mse_loss\n",
    "recon_loss_ = []\n",
    "neuron_fireings = []\n",
    "\n",
    "with tqdm(range(n_epochs)) as t:\n",
    "    for epoch in t:\n",
    "        vv = np.zeros((len(train_datasets), n_hid))\n",
    "        for idx, (data, target) in enumerate(train_loader):\n",
    "            v = data.view(-1, n_vis)\n",
    "            v_gibbs = model(v)\n",
    "            loss = model.free_energy(v) - model.free_energy(v_gibbs)\n",
    "            recon_loss = recon_loss_func(v, v_gibbs)\n",
    "            loss_.append(loss.item())\n",
    "            recon_loss_.append(recon_loss.item())\n",
    "            optimizer.zero_grad()\n",
    "            loss.backward()\n",
    "            optimizer.step()\n",
    "            vv[idx*batch_size:(idx+1)*batch_size, :] = model.visible_to_hidden(v, binarize=False).detach().cpu().numpy()\n",
    "        t.set_description(f\"loss={loss.item():.2}\")\n",
    "        neuron_fireings.append(vv)"
   ]
  },
  {
   "cell_type": "code",
   "execution_count": null,
   "id": "3a330882",
   "metadata": {},
   "outputs": [],
   "source": [
    "import sklearn\n",
    "from sklearn.decomposition import PCA\n",
    "import matplotlib.pyplot as plt\n",
    "\n",
    "pca = PCA()\n",
    "pca.fit(neuron_fireings[-1])\n",
    "\n",
    "fig, ax = plt.subplots(figsize=(8, 6))\n",
    "xx = np.arange(len(pca.explained_variance_)) + 1\n",
    "ax.plot(xx, pca.explained_variance_, '.-')\n",
    "ax.plot(xx, 1000 * xx ** (-1.0))\n",
    "\n",
    "ax.set_xscale('log')\n",
    "ax.set_yscale('log')\n",
    "ax.set_xlabel('Neurons')\n",
    "ax.set_ylabel('Variance explained')\n",
    "xx = np.log(xx)\n",
    "yy = np.log(pca.explained_variance_)\n",
    "m, c = np.linalg.lstsq(np.vstack([xx, np.ones(len(xx))]).T, yy, rcond=None)[0]\n",
    "ax.set_title(f'y=mx+c, m={m}, c={c}')\n",
    "ax.grid()\n"
   ]
  }
 ],
 "metadata": {
  "kernelspec": {
   "display_name": "Python 3 (ipykernel)",
   "language": "python",
   "name": "python3"
  },
  "language_info": {
   "codemirror_mode": {
    "name": "ipython",
    "version": 3
   },
   "file_extension": ".py",
   "mimetype": "text/x-python",
   "name": "python",
   "nbconvert_exporter": "python",
   "pygments_lexer": "ipython3",
   "version": "3.8.2"
  }
 },
 "nbformat": 4,
 "nbformat_minor": 5
}
