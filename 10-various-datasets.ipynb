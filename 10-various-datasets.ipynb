{
 "cells": [
  {
   "cell_type": "markdown",
   "metadata": {},
   "source": []
  },
  {
   "cell_type": "code",
   "execution_count": 1,
   "metadata": {},
   "outputs": [],
   "source": [
    "import torch\n",
    "from models import prepare_mnist, prepare_fashion_mnist, prepare_sub_mnist\n",
    "\n",
    "import numpy as np\n",
    "from tqdm import tqdm\n",
    "from torch.utils.tensorboard import SummaryWriter\n",
    "from torchvision.utils import make_grid\n",
    "writer = SummaryWriter(\"runs/autoencoder_clipping02\")\n",
    "\n",
    "from models import MNISTConf"
   ]
  },
  {
   "cell_type": "code",
   "execution_count": 2,
   "metadata": {},
   "outputs": [],
   "source": [
    "import json\n",
    "import dataclasses\n",
    "conf = MNISTConf(\n",
    "    batch_size=128,\n",
    "    n_hid=1000,\n",
    "    n_vis=784,\n",
    "    lr=0.01,\n",
    "    n_epoch=30,\n",
    "    optimizer=\"rmsprop\",\n",
    "    dataset=\"fashion_mnist\",\n",
    "    model_name=\"autoencoder\",\n",
    "    whitening_vis=True,\n",
    "    )"
   ]
  },
  {
   "cell_type": "code",
   "execution_count": 3,
   "metadata": {},
   "outputs": [
    {
     "name": "stdout",
     "output_type": "stream",
     "text": [
      "device: cuda\n"
     ]
    }
   ],
   "source": [
    "\n",
    "device = torch.device('cuda') if torch.cuda.is_available() else torch.device('cpu')\n",
    "conf.device = device\n",
    "print(\"device:\", device)\n"
   ]
  },
  {
   "cell_type": "code",
   "execution_count": 4,
   "metadata": {},
   "outputs": [],
   "source": [
    "if conf.dataset == \"mnist\":\n",
    "    train_datasets, train_loader, test_datasets, test_loader = prepare_mnist(batch_size=conf.batch_size)\n",
    "if conf.dataset == \"fashion_mnist\":\n",
    "    train_datasets, train_loader, test_datasets, test_loader = prepare_fashion_mnist(batch_size=conf.batch_size)"
   ]
  },
  {
   "cell_type": "code",
   "execution_count": 5,
   "metadata": {},
   "outputs": [
    {
     "data": {
      "text/plain": [
       "(60000, 784)"
      ]
     },
     "execution_count": 5,
     "metadata": {},
     "output_type": "execute_result"
    },
    {
     "data": {
      "image/png": "[encoded data removed]",
      "text/plain": [
       "<Figure size 432x288 with 1 Axes>"
      ]
     },
     "metadata": {
      "needs_background": "light"
     },
     "output_type": "display_data"
    }
   ],
   "source": [
    "def zca_whitening_matrix(X):\n",
    "    \"\"\"\n",
    "    Function to compute ZCA whitening matrix (aka Mahalanobis whitening).\n",
    "    INPUT:  X: [N x M] matrix.\n",
    "        Rows: Variables\n",
    "        Columns: Observations\n",
    "    OUTPUT: ZCAMatrix: [M x M] matrix\n",
    "    \"\"\"\n",
    "    # Covariance matrix [column-wise variables]: Sigma = (X-mu)' * (X-mu) / N\n",
    "    sigma = np.cov(X.T, rowvar=True) # [M x M]\n",
    "    # Singular Value Decomposition. X = U * np.diag(S) * V\n",
    "    U,S,V = np.linalg.svd(sigma)\n",
    "        # U: [M x M] eigenvectors of sigma.\n",
    "        # S: [M x 1] eigenvalues of sigma.\n",
    "        # V: [M x M] transpose of U\n",
    "    # Whitening constant: prevents division by zero\n",
    "    epsilon = 1e-10\n",
    "    # ZCA Whitening matrix: U * Lambda * U'\n",
    "    ZCAMatrix = np.dot(U, np.dot(np.diag(1.0/np.sqrt(S + epsilon)), U.T)) # [M x M]\n",
    "    return ZCAMatrix\n",
    "\n",
    "data = train_datasets.data.view(-1, conf.n_vis).numpy()\n",
    "P = zca_whitening_matrix(data)\n",
    "import matplotlib.pyplot as plt\n",
    "\n",
    "plt.imshow(data[0].reshape(28, 28))\n",
    "\n",
    "plt.imshow(np.dot(data, P).reshape((-1, 28, 28))[0])\n",
    "data_white = np.dot(data, P).reshape((-1, conf.n_vis))\n",
    "data_white.shape"
   ]
  },
  {
   "cell_type": "code",
   "execution_count": 6,
   "metadata": {},
   "outputs": [],
   "source": [
    "from models import AutoEncoder, RBM, MLPAutoEncoder, VAE\n",
    "\n",
    "def generate_vv(model, conf, fast=False):\n",
    "    for epoch in tqdm(range(conf.n_epoch)):\n",
    "        vv = np.zeros((len(train_datasets), conf.n_hid))\n",
    "        if fast:\n",
    "            for idx, (data, target) in enumerate(train_loader):\n",
    "                batch_size = data.size(0)\n",
    "                n_iter = len(train_loader) * epoch + idx\n",
    "                recon_loss = model.train_step(data.to(conf.device)).to(\"cpu\")\n",
    "                writer.add_scalar(f\"{model.__class__.__name__}/{str(conf)}/recon_loss\", recon_loss, n_iter)\n",
    "                vv[idx*batch_size:(idx+1)*batch_size, :] = model.encode(data.view(-1, conf.n_vis).to(conf.device)).detach().cpu().numpy()\n",
    "        else:\n",
    "            for idx, (data, target) in enumerate(train_loader):\n",
    "                if conf.whitening_vis:\n",
    "                    batch_size = data.size(0)\n",
    "                    n_iter = len(train_loader) * epoch\n",
    "                    batch_white = np.dot(data.view(batch_size, -1).numpy(), P)\n",
    "                    batch_white = torch.from_numpy(batch_white.astype(np.float32)).clone().view(batch_size, -1)\n",
    "                    vv[idx*batch_size:(idx+1)*batch_size, :] = model.encode(batch_white.to(conf.device)).detach().cpu().numpy()\n",
    "                    \n",
    "                else:\n",
    "                    batch_size = data.size(0)\n",
    "                    n_iter = len(train_loader) * epoch\n",
    "                    vv[idx*batch_size:(idx+1)*batch_size, :] = model.encode(data.view(-1, conf.n_vis).to(conf.device)).detach().cpu().numpy()\n",
    "            for idx, (data, target) in enumerate(train_loader):\n",
    "                if conf.whitening_learn:\n",
    "                    batch_size = data.size(0)\n",
    "                    n_step = len(train_loader) * epoch + idx\n",
    "                    batch_white = np.dot(data.view(batch_size, -1).numpy(), P)\n",
    "                    batch_white = torch.from_numpy(batch_white.astype(np.float32)).clone().view(batch_size, -1)\n",
    "                    loss = model.train_step(batch_white.to(conf.device)).cpu()\n",
    "                    writer.add_scalar(f\"{model.__class__.__name__}/{str(conf)}/loss\", loss, n_step)\n",
    "                    recon_loss = model.recon_loss(batch_white.to(device)).cpu()\n",
    "                    writer.add_scalar(f\"{model.__class__.__name__}/{str(conf)}/recon_loss\", recon_loss, n_step)  \n",
    "\n",
    "\n",
    "                else:\n",
    "                    batch_size = data.size(0)\n",
    "                    n_step = len(train_loader) * epoch + idx\n",
    "                    loss = model.train_step(data.to(device)).cpu()\n",
    "                    writer.add_scalar(f\"{model.__class__.__name__}/{str(conf)}/loss\", loss, n_step)\n",
    "                    recon_loss = model.recon_loss(data.to(device)).cpu()\n",
    "                    writer.add_scalar(f\"{model.__class__.__name__}/{str(conf)}/recon_loss\", recon_loss, n_step)       \n",
    "        n_nan = np.sum(np.isnan(vv))\n",
    "        if n_nan > 0:\n",
    "            raise ValueError(f\"vv contains {n_nan} NaN values.\")         \n",
    "        yield epoch, n_iter, vv\n",
    "    \n",
    "if conf.model_name == \"rbm\":\n",
    "    model = RBM(conf=conf).to(conf.device)\n",
    "elif conf.model_name == \"autoencoder\":\n",
    "    model = AutoEncoder(conf).to(conf.device)\n",
    "elif conf.model_name == \"vae\":\n",
    "    model = VAE(conf).to(conf.device)\n",
    "vv_iter = generate_vv(model, conf)"
   ]
  },
  {
   "cell_type": "code",
   "execution_count": 7,
   "metadata": {},
   "outputs": [
    {
     "name": "stderr",
     "output_type": "stream",
     "text": [
      " 30%|███       | 9/30 [05:05<11:53, 33.97s/it]\n"
     ]
    },
    {
     "ename": "KeyboardInterrupt",
     "evalue": "",
     "output_type": "error",
     "traceback": [
      "\u001b[0;31m---------------------------------------------------------------------------\u001b[0m",
      "\u001b[0;31mKeyboardInterrupt\u001b[0m                         Traceback (most recent call last)",
      "\u001b[0;32m/tmp/ipykernel_1826318/556189051.py\u001b[0m in \u001b[0;36m<module>\u001b[0;34m\u001b[0m\n\u001b[1;32m     36\u001b[0m \u001b[0;31m#############################\u001b[0m\u001b[0;34m\u001b[0m\u001b[0;34m\u001b[0m\u001b[0;34m\u001b[0m\u001b[0m\n\u001b[1;32m     37\u001b[0m \u001b[0;34m\u001b[0m\u001b[0m\n\u001b[0;32m---> 38\u001b[0;31m \u001b[0;32mfor\u001b[0m \u001b[0mn_epoch\u001b[0m\u001b[0;34m,\u001b[0m \u001b[0mn_iter\u001b[0m\u001b[0;34m,\u001b[0m \u001b[0mvv\u001b[0m \u001b[0;32min\u001b[0m \u001b[0mvv_iter\u001b[0m\u001b[0;34m:\u001b[0m\u001b[0;34m\u001b[0m\u001b[0;34m\u001b[0m\u001b[0m\n\u001b[0m\u001b[1;32m     39\u001b[0m     \u001b[0mpca\u001b[0m \u001b[0;34m=\u001b[0m \u001b[0mPCA\u001b[0m\u001b[0;34m(\u001b[0m\u001b[0;34m)\u001b[0m\u001b[0;34m\u001b[0m\u001b[0;34m\u001b[0m\u001b[0m\n\u001b[1;32m     40\u001b[0m     \u001b[0mpca\u001b[0m\u001b[0;34m.\u001b[0m\u001b[0mfit\u001b[0m\u001b[0;34m(\u001b[0m\u001b[0mvv\u001b[0m\u001b[0;34m)\u001b[0m\u001b[0;34m\u001b[0m\u001b[0;34m\u001b[0m\u001b[0m\n",
      "\u001b[0;32m/tmp/ipykernel_1826318/3419017970.py\u001b[0m in \u001b[0;36mgenerate_vv\u001b[0;34m(model, conf, fast)\u001b[0m\n\u001b[1;32m     18\u001b[0m                     \u001b[0mbatch_white\u001b[0m \u001b[0;34m=\u001b[0m \u001b[0mnp\u001b[0m\u001b[0;34m.\u001b[0m\u001b[0mdot\u001b[0m\u001b[0;34m(\u001b[0m\u001b[0mdata\u001b[0m\u001b[0;34m.\u001b[0m\u001b[0mview\u001b[0m\u001b[0;34m(\u001b[0m\u001b[0mbatch_size\u001b[0m\u001b[0;34m,\u001b[0m \u001b[0;34m-\u001b[0m\u001b[0;36m1\u001b[0m\u001b[0;34m)\u001b[0m\u001b[0;34m.\u001b[0m\u001b[0mnumpy\u001b[0m\u001b[0;34m(\u001b[0m\u001b[0;34m)\u001b[0m\u001b[0;34m,\u001b[0m \u001b[0mP\u001b[0m\u001b[0;34m)\u001b[0m\u001b[0;34m\u001b[0m\u001b[0;34m\u001b[0m\u001b[0m\n\u001b[1;32m     19\u001b[0m                     \u001b[0mbatch_white\u001b[0m \u001b[0;34m=\u001b[0m \u001b[0mtorch\u001b[0m\u001b[0;34m.\u001b[0m\u001b[0mfrom_numpy\u001b[0m\u001b[0;34m(\u001b[0m\u001b[0mbatch_white\u001b[0m\u001b[0;34m.\u001b[0m\u001b[0mastype\u001b[0m\u001b[0;34m(\u001b[0m\u001b[0mnp\u001b[0m\u001b[0;34m.\u001b[0m\u001b[0mfloat32\u001b[0m\u001b[0;34m)\u001b[0m\u001b[0;34m)\u001b[0m\u001b[0;34m.\u001b[0m\u001b[0mclone\u001b[0m\u001b[0;34m(\u001b[0m\u001b[0;34m)\u001b[0m\u001b[0;34m.\u001b[0m\u001b[0mview\u001b[0m\u001b[0;34m(\u001b[0m\u001b[0mbatch_size\u001b[0m\u001b[0;34m,\u001b[0m \u001b[0;34m-\u001b[0m\u001b[0;36m1\u001b[0m\u001b[0;34m)\u001b[0m\u001b[0;34m\u001b[0m\u001b[0;34m\u001b[0m\u001b[0m\n\u001b[0;32m---> 20\u001b[0;31m                     \u001b[0mvv\u001b[0m\u001b[0;34m[\u001b[0m\u001b[0midx\u001b[0m\u001b[0;34m*\u001b[0m\u001b[0mbatch_size\u001b[0m\u001b[0;34m:\u001b[0m\u001b[0;34m(\u001b[0m\u001b[0midx\u001b[0m\u001b[0;34m+\u001b[0m\u001b[0;36m1\u001b[0m\u001b[0;34m)\u001b[0m\u001b[0;34m*\u001b[0m\u001b[0mbatch_size\u001b[0m\u001b[0;34m,\u001b[0m \u001b[0;34m:\u001b[0m\u001b[0;34m]\u001b[0m \u001b[0;34m=\u001b[0m \u001b[0mmodel\u001b[0m\u001b[0;34m.\u001b[0m\u001b[0mencode\u001b[0m\u001b[0;34m(\u001b[0m\u001b[0mbatch_white\u001b[0m\u001b[0;34m.\u001b[0m\u001b[0mto\u001b[0m\u001b[0;34m(\u001b[0m\u001b[0mconf\u001b[0m\u001b[0;34m.\u001b[0m\u001b[0mdevice\u001b[0m\u001b[0;34m)\u001b[0m\u001b[0;34m)\u001b[0m\u001b[0;34m.\u001b[0m\u001b[0mdetach\u001b[0m\u001b[0;34m(\u001b[0m\u001b[0;34m)\u001b[0m\u001b[0;34m.\u001b[0m\u001b[0mcpu\u001b[0m\u001b[0;34m(\u001b[0m\u001b[0;34m)\u001b[0m\u001b[0;34m.\u001b[0m\u001b[0mnumpy\u001b[0m\u001b[0;34m(\u001b[0m\u001b[0;34m)\u001b[0m\u001b[0;34m\u001b[0m\u001b[0;34m\u001b[0m\u001b[0m\n\u001b[0m\u001b[1;32m     21\u001b[0m \u001b[0;34m\u001b[0m\u001b[0m\n\u001b[1;32m     22\u001b[0m                 \u001b[0;32melse\u001b[0m\u001b[0;34m:\u001b[0m\u001b[0;34m\u001b[0m\u001b[0;34m\u001b[0m\u001b[0m\n",
      "\u001b[0;31mKeyboardInterrupt\u001b[0m: "
     ]
    }
   ],
   "source": [
    "import matplotlib\n",
    "import matplotlib.pyplot as plt\n",
    "from sklearn.decomposition import PCA\n",
    "import matplotlib.cm as cm\n",
    "from mpl_toolkits.axes_grid1 import make_axes_locatable\n",
    "\n",
    "if not conf.whitening_learn:\n",
    "    sample_images = next(iter(test_loader))[0]\n",
    "else:\n",
    "    sample_images = next(iter(test_loader))[0]\n",
    "    sample_images = np.dot(sample_images.numpy().reshape(-1, conf.n_vis), P)\n",
    "    sample_images = torch.from_numpy(sample_images.astype(np.float32)).clone()\n",
    "\n",
    "\n",
    "sample_img = make_grid(sample_images.view(conf.batch_size, 1, 28, 28).data)\n",
    "\n",
    "fig, ax = plt.subplots(figsize=(10, 10))\n",
    "divider = make_axes_locatable(ax)\n",
    "mappable = cm.ScalarMappable(cmap=cm.viridis, norm=matplotlib.colors.Normalize(vmin=0, vmax=conf.n_epoch))\n",
    "cax = divider.append_axes(\"right\", size=\"5%\", pad=0.05)\n",
    "fig.colorbar(mappable=mappable,cax=cax, label=\"Epoch\")\n",
    "\n",
    "\n",
    "xx = np.arange(conf.n_hid) + 1\n",
    "log_xx = np.log(xx)\n",
    "ax.set_xscale(\"log\")\n",
    "ax.set_yscale(\"log\")\n",
    "ax.set_xlabel('N')\n",
    "ax.set_ylabel('Variance')\n",
    "ax.grid(visible=True)\n",
    "labels = []\n",
    "\n",
    "#############################\n",
    "# Clipping the figures\n",
    "ax.set_ylim((10 ** (-6), 1)) \n",
    "#############################\n",
    "\n",
    "for n_epoch, n_iter, vv in vv_iter:\n",
    "    pca = PCA()\n",
    "    pca.fit(vv)\n",
    "    yy = pca.explained_variance_\n",
    "    log_yy = np.log(yy)\n",
    "    m, c = np.linalg.lstsq(np.vstack([log_xx, np.ones(len(log_xx))]).T, log_yy, rcond=None)[0]\n",
    "    pcm = ax.plot(xx, yy, '.-', color=cm.viridis(n_epoch / conf.n_epoch))\n",
    "\n",
    "\n",
    "\n",
    "    label = f\"{str(conf)}/neuron_fireings\"\n",
    "    writer.add_figure(label, fig, global_step=n_epoch)\n",
    "    labels.append(label)\n",
    "    \n",
    "\n",
    "    v_recon = model(sample_images.view(conf.batch_size, -1).to(device))\n",
    "    sample_recon = make_grid(v_recon.view(conf.batch_size, 1, 28, 28).data).cpu()\n",
    "    writer.add_image(f\"{str(conf)}/sample_input\", sample_img, global_step=n_epoch)\n",
    "    writer.add_image(f\"{str(conf)}/sample_recon\", sample_recon, global_step=n_epoch)\n",
    "\n",
    "    cum_var = pca.explained_variance_ratio_.cumsum()\n",
    "    ef_dim = np.argmax(np.where(cum_var < 0.99, cum_var, 0))\n",
    "    writer.add_scalar(f\"{str(conf)}/effective_dim\", ef_dim, global_step=n_epoch)\n",
    "\n",
    "\n",
    "\n",
    "\n"
   ]
  },
  {
   "cell_type": "code",
   "execution_count": null,
   "metadata": {},
   "outputs": [],
   "source": [
    "cum_var = pca.explained_variance_ratio_.cumsum()\n",
    "th = 0.99\n",
    "x_max = np.argmax(np.where(cum_var < th, cum_var, 0))\n",
    "print(\"x_max\", x_max)\n",
    "x_th =  np.arange(x_max) + 1\n",
    "y_th = pca.explained_variance_[:x_max]\n",
    "log_x_th = np.log(x_th)\n",
    "log_y_th = np.log(y_th)\n",
    "m, c = np.linalg.lstsq(np.vstack([log_x_th, np.ones(len(log_x_th))]).T, log_y_th, rcond=None)[0]\n",
    "\n",
    "xx = np.arange(conf.n_hid) + 1\n",
    "ax.plot(xx, np.e**c * xx**m, \"--\", c=\"magenta\", label=f\"Fitting to 99% of variance\")\n",
    "ax.scatter([x_max], [np.e**c * x_max**m], c=\"red\", marker=\"o\", linewidths=3, label=f\"a, n_max: {m:.3}, {x_max}\", zorder=2.5)\n",
    "ax.grid(visible=True)\n",
    "ax.legend()\n",
    "\n",
    "writer.add_figure(f\"{str(conf)}/neuron_fireings/finish\", fig)\n",
    "\n",
    "\n",
    "\n"
   ]
  },
  {
   "cell_type": "code",
   "execution_count": null,
   "metadata": {},
   "outputs": [],
   "source": [
    "fig, ax = plt.subplots(figsize=(8, 8))\n",
    "xx = np.arange(conf.n_hid) + 1\n",
    "log_xx = np.log(xx)\n",
    "\n",
    "ax.set_xlabel('Neurons')\n",
    "ax.set_ylabel('Variance explained')\n",
    "pca = PCA()\n",
    "pca.fit(vv)\n",
    "yy = pca.explained_variance_\n",
    "log_yy = np.log(yy)\n",
    "m, c = np.linalg.lstsq(np.vstack([log_xx, np.ones(len(log_xx))]).T, log_yy, rcond=None)[0]\n",
    "ax.plot(xx, yy,'.-', label=f\"epoch: {conf.n_epoch}\")\n",
    "ax.plot(xx, np.e**c * xx**m, label=f\"log y= {m:.3} log x + {c:.3}\")\n",
    "ax.legend()\n",
    "ax.set_ylim(0, np.max(yy))\n",
    "ax.grid(visible=True)\n",
    "writer.add_figure(f\"{model.__class__.__name__}/{str(conf)}/result/nonlog\", fig)"
   ]
  },
  {
   "cell_type": "code",
   "execution_count": null,
   "metadata": {},
   "outputs": [],
   "source": [
    "import plfit\n",
    "\n",
    "myplfit = plfit.plfit(yy)\n"
   ]
  },
  {
   "cell_type": "code",
   "execution_count": null,
   "metadata": {},
   "outputs": [],
   "source": [
    "# generate some plots\n",
    "from pylab import *\n",
    "figure(1)\n",
    "myplfit.plotpdf()\n",
    "\n",
    "figure(2)\n",
    "myplfit.plotcdf()\n",
    "\n",
    "figure(3)\n",
    "myplfit.alphavsks()"
   ]
  },
  {
   "cell_type": "code",
   "execution_count": null,
   "metadata": {},
   "outputs": [],
   "source": []
  },
  {
   "cell_type": "code",
   "execution_count": null,
   "metadata": {},
   "outputs": [],
   "source": [
    "\n",
    "vv = np.zeros((len(test_datasets), conf.n_hid))\n",
    "vvlabel = np.zeros(len(test_datasets), dtype=np.int32)\n",
    "dataimg = np.zeros((len(test_datasets), conf.n_vis))\n",
    "\n",
    "for idx, (data, target) in enumerate(test_loader):\n",
    "    batch_size = data.size(0)\n",
    "    vv[idx*batch_size:(idx+1)*batch_size, :] = model.encode(data.view(-1, conf.n_vis).to(device)).detach().cpu().numpy()\n",
    "    vvlabel[idx*batch_size:(idx+1)*batch_size] = target\n",
    "    dataimg[idx*batch_size:(idx+1)*batch_size, :] = data.view(batch_size, -1)\n",
    "\n",
    "dataimg = torch.from_numpy(dataimg.reshape(-1, 1, 28, 28))"
   ]
  },
  {
   "cell_type": "code",
   "execution_count": null,
   "metadata": {},
   "outputs": [],
   "source": [
    "writer.add_embedding(vv, metadata=vvlabel, label_img=dataimg, tag=f\"{model.__class__.__name__}/{str(conf)}/projector\")"
   ]
  },
  {
   "cell_type": "code",
   "execution_count": null,
   "metadata": {},
   "outputs": [],
   "source": [
    "import sklearn\n",
    "from sklearn.decomposition import PCA\n",
    "\n",
    "pca = PCA()\n",
    "pca.fit(train_datasets.data.view(-1, 784).numpy())\n",
    "\n",
    "fig, ax = plt.subplots(figsize=(8, 8))\n",
    "xx = np.arange(len(pca.explained_variance_)) + 1\n",
    "ax.plot(xx, pca.explained_variance_, '.-')\n",
    "\n",
    "\n",
    "ax.set_xscale('log')\n",
    "ax.set_yscale('log')\n",
    "ax.set_xlabel('Neurons')\n",
    "ax.set_ylabel('Variance explained')\n",
    "log_xx = np.log(xx)\n",
    "yy = pca.explained_variance_\n",
    "log_yy = np.log(yy)\n",
    "m, c = np.linalg.lstsq(np.vstack([log_xx, np.ones(len(log_xx))]).T, log_yy, rcond=None)[0]\n",
    "ax.set_title(f'y=mx+c, m={m}, c={c}')\n",
    "ax.plot(xx, np.e**c * xx**m, label=f\"log y= {m:.3} log x + {c:.3}\")\n",
    "ax.grid()\n",
    "#ax.set_ylim(10 ** (-10))"
   ]
  },
  {
   "cell_type": "code",
   "execution_count": null,
   "metadata": {},
   "outputs": [],
   "source": [
    "import plfit\n",
    "\n",
    "myplfit = plfit.plfit(yy)\n",
    "from pylab import *\n",
    "figure(1)\n",
    "myplfit.plotpdf()\n",
    "\n",
    "figure(2)\n",
    "myplfit.plotcdf()\n",
    "\n",
    "figure(3)\n",
    "myplfit.alphavsks()"
   ]
  },
  {
   "cell_type": "code",
   "execution_count": null,
   "metadata": {},
   "outputs": [],
   "source": [
    "import sklearn\n",
    "from sklearn.decomposition import PCA\n",
    "\n",
    "pca = PCA()\n",
    "pca.fit(data_white)\n",
    "\n",
    "fig, ax = plt.subplots(figsize=(8, 8))\n",
    "xx = np.arange(len(pca.explained_variance_)) + 1\n",
    "ax.plot(xx, pca.explained_variance_, '.-')\n",
    "\n",
    "\n",
    "ax.set_xscale('log')\n",
    "ax.set_yscale('log')\n",
    "ax.set_xlabel('Neurons')\n",
    "ax.set_ylabel('Variance explained')\n",
    "log_xx = np.log(xx)\n",
    "yy = pca.explained_variance_\n",
    "log_yy = np.log(yy)\n",
    "m, c = np.linalg.lstsq(np.vstack([log_xx, np.ones(len(log_xx))]).T, log_yy, rcond=None)[0]\n",
    "ax.set_title(f'y=mx+c, m={m}, c={c}')\n",
    "ax.plot(xx, np.e**c * xx**m, label=f\"log y= {m:.3} log x + {c:.3}\")\n",
    "ax.grid()"
   ]
  },
  {
   "cell_type": "code",
   "execution_count": null,
   "metadata": {},
   "outputs": [],
   "source": [
    "import sklearn\n",
    "from sklearn.decomposition import PCA\n",
    "\n",
    "pca = PCA()\n",
    "pca.fit(data_white)\n",
    "\n",
    "fig, ax = plt.subplots(figsize=(8, 8))\n",
    "xx = np.arange(conf.n_vis) + 1\n",
    "\n",
    "\n",
    "\n",
    "ax.set_xscale('log')\n",
    "ax.set_yscale('log')\n",
    "ax.set_xlabel('Neurons')\n",
    "ax.set_ylabel('Variance explained')\n",
    "log_xx = np.log(xx)\n",
    "yy = pca.explained_variance_\n",
    "log_yy = np.log(yy)\n",
    "m, c = np.linalg.lstsq(np.vstack([log_xx, np.ones(len(log_xx))]).T, log_yy, rcond=None)[0]\n",
    "ax.plot(xx, np.exp(-xx*2))\n",
    "ax.grid()"
   ]
  },
  {
   "cell_type": "code",
   "execution_count": null,
   "metadata": {},
   "outputs": [],
   "source": [
    "len(pca.explained_variance_)"
   ]
  },
  {
   "cell_type": "markdown",
   "metadata": {},
   "source": []
  }
 ],
 "metadata": {
  "interpreter": {
   "hash": "25554aa828a01445f449ceb07a62b018f5dc6eacf1fdadcd1881e8950d47054e"
  },
  "kernelspec": {
   "display_name": "Python 3.8.2 64-bit ('venv': venv)",
   "language": "python",
   "name": "python3"
  },
  "language_info": {
   "codemirror_mode": {
    "name": "ipython",
    "version": 3
   },
   "file_extension": ".py",
   "mimetype": "text/x-python",
   "name": "python",
   "nbconvert_exporter": "python",
   "pygments_lexer": "ipython3",
   "version": "3.8.2"
  },
  "orig_nbformat": 4
 },
 "nbformat": 4,
 "nbformat_minor": 2
}
