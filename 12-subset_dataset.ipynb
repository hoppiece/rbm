{
 "cells": [
  {
   "cell_type": "code",
   "execution_count": null,
   "metadata": {},
   "outputs": [],
   "source": [
    "import torch\n",
    "from models import prepare_mnist, prepare_fashion_mnist\n",
    "\n",
    "import numpy as np\n",
    "from tqdm import tqdm\n",
    "from torch.utils.tensorboard import SummaryWriter\n",
    "from torchvision.utils import make_grid\n",
    "\n",
    "from models import MNISTConf\n",
    "\n",
    "import json\n",
    "import dataclasses\n",
    "conf = MNISTConf(\n",
    "    batch_size=128,\n",
    "    n_hid=100,\n",
    "    n_vis=784,\n",
    "    lr=0.01,n\n",
    "    _epoch=10,\n",
    "    optimizer=\"\"\n",
    ")"
   ]
  }
 ],
 "metadata": {
  "language_info": {
   "name": "python"
  },
  "orig_nbformat": 4
 },
 "nbformat": 4,
 "nbformat_minor": 2
}
