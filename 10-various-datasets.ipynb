{
 "cells": [
  {
   "cell_type": "markdown",
   "metadata": {},
   "source": []
  },
  {
   "cell_type": "code",
   "execution_count": null,
   "metadata": {},
   "outputs": [],
   "source": []
  },
  {
   "cell_type": "code",
   "execution_count": 1,
   "metadata": {},
   "outputs": [],
   "source": [
    "import torch\n",
    "from models import prepare_mnist\n",
    "\n",
    "import numpy as np\n",
    "from tqdm import tqdm\n",
    "from torch.utils.tensorboard import SummaryWriter\n",
    "from torchvision.utils import make_grid\n",
    "writer = SummaryWriter()\n",
    "from models import MNISTConf"
   ]
  },
  {
   "cell_type": "code",
   "execution_count": 2,
   "metadata": {},
   "outputs": [],
   "source": [
    "import json\n",
    "import dataclasses\n",
    "conf = MNISTConf(batch_size=128, n_hid=100, n_vis=784, lr=0.01, n_epoch=10, optimizer=\"\", whitening_vis=True, whitening_learn=True)"
   ]
  },
  {
   "cell_type": "code",
   "execution_count": 3,
   "metadata": {},
   "outputs": [
    {
     "name": "stdout",
     "output_type": "stream",
     "text": [
      "device: cuda\n"
     ]
    }
   ],
   "source": [
    "\n",
    "device = torch.device('cuda') if torch.cuda.is_available() else torch.device('cpu')\n",
    "conf.device = device\n",
    "print(\"device:\", device)\n"
   ]
  },
  {
   "cell_type": "code",
   "execution_count": 4,
   "metadata": {},
   "outputs": [],
   "source": [
    "train_datasets, train_loader, test_datasets, test_loader = prepare_mnist(batch_size=conf.batch_size)"
   ]
  },
  {
   "cell_type": "code",
   "execution_count": 5,
   "metadata": {},
   "outputs": [
    {
     "data": {
      "text/plain": [
       "(60000, 784)"
      ]
     },
     "execution_count": 5,
     "metadata": {},
     "output_type": "execute_result"
    },
    {
     "data": {
      "image/png": "[encoded data removed]",
      "text/plain": [
       "<Figure size 432x288 with 1 Axes>"
      ]
     },
     "metadata": {
      "needs_background": "light"
     },
     "output_type": "display_data"
    }
   ],
   "source": [
    "def zca_whitening_matrix(X):\n",
    "    \"\"\"\n",
    "    Function to compute ZCA whitening matrix (aka Mahalanobis whitening).\n",
    "    INPUT:  X: [N x M] matrix.\n",
    "        Rows: Variables\n",
    "        Columns: Observations\n",
    "    OUTPUT: ZCAMatrix: [M x M] matrix\n",
    "    \"\"\"\n",
    "    # Covariance matrix [column-wise variables]: Sigma = (X-mu)' * (X-mu) / N\n",
    "    sigma = np.cov(X.T, rowvar=True) # [M x M]\n",
    "    # Singular Value Decomposition. X = U * np.diag(S) * V\n",
    "    U,S,V = np.linalg.svd(sigma)\n",
    "        # U: [M x M] eigenvectors of sigma.\n",
    "        # S: [M x 1] eigenvalues of sigma.\n",
    "        # V: [M x M] transpose of U\n",
    "    # Whitening constant: prevents division by zero\n",
    "    epsilon = 1e-10\n",
    "    # ZCA Whitening matrix: U * Lambda * U'\n",
    "    ZCAMatrix = np.dot(U, np.dot(np.diag(1.0/np.sqrt(S + epsilon)), U.T)) # [M x M]\n",
    "    return ZCAMatrix\n",
    "\n",
    "data = train_datasets.data.view(-1, conf.n_vis).numpy()\n",
    "P = zca_whitening_matrix(data)\n",
    "import matplotlib.pyplot as plt\n",
    "\n",
    "plt.imshow(data[0].reshape(28, 28))\n",
    "\n",
    "plt.imshow(np.dot(data, P).reshape((-1, 28, 28))[0])\n",
    "data_white = np.dot(data, P).reshape((-1, conf.n_vis))\n",
    "data_white.shape"
   ]
  },
  {
   "cell_type": "code",
   "execution_count": 6,
   "metadata": {},
   "outputs": [],
   "source": [
    "from models import AutoEncoder, RBM, MLPAutoEncoder, VAE\n",
    "\n",
    "def generate_vv(model, conf, fast=False):\n",
    "    for epoch in tqdm(range(conf.n_epoch)):\n",
    "        vv = np.zeros((len(train_datasets), conf.n_hid))\n",
    "        if fast:\n",
    "            for idx, (data, target) in enumerate(train_loader):\n",
    "                batch_size = data.size(0)\n",
    "                n_iter = len(train_loader) * epoch + idx\n",
    "                recon_loss = model.train_step(data.to(conf.device)).to(\"cpu\")\n",
    "                writer.add_scalar(f\"{model.__class__.__name__}/{str(conf)}/recon_loss\", recon_loss, n_iter)\n",
    "                vv[idx*batch_size:(idx+1)*batch_size, :] = model.encode(data.view(-1, conf.n_vis).to(conf.device)).detach().cpu().numpy()\n",
    "        else:\n",
    "            for idx, (data, target) in enumerate(train_loader):\n",
    "                if conf.whitening_vis:\n",
    "                    batch_size = data.size(0)\n",
    "                    n_iter = len(train_loader) * epoch\n",
    "                    batch_white = np.dot(data.view(batch_size, -1).numpy(), P)\n",
    "                    batch_white = torch.from_numpy(batch_white.astype(np.float32)).clone().view(batch_size, -1)\n",
    "                    vv[idx*batch_size:(idx+1)*batch_size, :] = model.encode(batch_white.to(conf.device)).detach().cpu().numpy()\n",
    "                    \n",
    "                else:\n",
    "                    batch_size = data.size(0)\n",
    "                    n_iter = len(train_loader) * epoch\n",
    "                    vv[idx*batch_size:(idx+1)*batch_size, :] = model.encode(data.view(-1, conf.n_vis).to(conf.device)).detach().cpu().numpy()\n",
    "            for idx, (data, target) in enumerate(train_loader):\n",
    "                if conf.whitening_learn:\n",
    "                    batch_size = data.size(0)\n",
    "                    n_step = len(train_loader) * epoch + idx\n",
    "                    batch_white = np.dot(data.view(batch_size, -1).numpy(), P)\n",
    "                    batch_white = torch.from_numpy(batch_white.astype(np.float32)).clone().view(batch_size, -1)\n",
    "                    loss = model.train_step(batch_white.to(conf.device)).cpu()\n",
    "                    writer.add_scalar(f\"{model.__class__.__name__}/{str(conf)}/loss\", loss, n_step)\n",
    "                    recon_loss = model.recon_loss(batch_white.to(device)).cpu()\n",
    "                    writer.add_scalar(f\"{model.__class__.__name__}/{str(conf)}/recon_loss\", recon_loss, n_step)  \n",
    "\n",
    "\n",
    "                else:\n",
    "                    batch_size = data.size(0)\n",
    "                    n_step = len(train_loader) * epoch + idx\n",
    "                    loss = model.train_step(data.to(device)).cpu()\n",
    "                    writer.add_scalar(f\"{model.__class__.__name__}/{str(conf)}/loss\", loss, n_step)\n",
    "                    recon_loss = model.recon_loss(data.to(device)).cpu()\n",
    "                    writer.add_scalar(f\"{model.__class__.__name__}/{str(conf)}/recon_loss\", recon_loss, n_step)                \n",
    "        yield epoch, n_iter, vv\n",
    "    \n",
    "model = RBM(conf).to(device)\n",
    "vv_iter = generate_vv(model, conf)"
   ]
  },
  {
   "cell_type": "code",
   "execution_count": 7,
   "metadata": {},
   "outputs": [
    {
     "name": "stderr",
     "output_type": "stream",
     "text": [
      "100%|██████████| 10/10 [08:12<00:00, 49.23s/it]\n"
     ]
    }
   ],
   "source": [
    "import matplotlib\n",
    "import matplotlib.pyplot as plt\n",
    "from sklearn.decomposition import PCA\n",
    "import matplotlib.cm as cm\n",
    "from mpl_toolkits.axes_grid1 import make_axes_locatable\n",
    "\n",
    "if not conf.whitening_learn:\n",
    "    sample_images = next(iter(test_loader))[0]\n",
    "else:\n",
    "    sample_images = next(iter(test_loader))[0]\n",
    "    sample_images = np.dot(sample_images.numpy().reshape(-1, conf.n_vis), P)\n",
    "    sample_images = torch.from_numpy(sample_images.astype(np.float32)).clone()\n",
    "\n",
    "\n",
    "sample_img = make_grid(sample_images.view(conf.batch_size, 1, 28, 28).data)\n",
    "\n",
    "fig, ax = plt.subplots(figsize=(8, 8))\n",
    "divider = make_axes_locatable(ax)\n",
    "mappable = cm.ScalarMappable(cmap=cm.viridis, norm=matplotlib.colors.Normalize(vmin=0, vmax=conf.n_epoch))\n",
    "cax = divider.append_axes(\"right\", size=\"5%\", pad=0.05)\n",
    "fig.colorbar(mappable=mappable,cax=cax, label=\"Epoch\")\n",
    "\n",
    "\n",
    "xx = np.arange(conf.n_hid) + 1\n",
    "log_xx = np.log(xx)\n",
    "ax.set_xscale(\"log\")\n",
    "ax.set_yscale(\"log\")\n",
    "ax.set_xlabel('Neurons')\n",
    "ax.set_ylabel('Variance explained')\n",
    "\n",
    "for n_epoch, n_iter, vv in vv_iter:\n",
    "\n",
    "    pca = PCA()\n",
    "    pca.fit(vv)\n",
    "    yy = pca.explained_variance_\n",
    "    log_yy = np.log(yy)\n",
    "    m, c = np.linalg.lstsq(np.vstack([log_xx, np.ones(len(log_xx))]).T, log_yy, rcond=None)[0]\n",
    "    pcm = ax.plot(xx, yy, '.-', label=f\"epoch: {n_epoch}, m: {m:.3}\", color=cm.viridis(n_epoch / conf.n_epoch))\n",
    "    # ax.legend()\n",
    "    ax.grid(visible=True)\n",
    "    writer.add_figure(f\"{model.__class__.__name__}/{str(conf)}/neuron_fireings\", fig, global_step=n_iter)\n",
    "\n",
    "    v_recon = model(sample_images.view(conf.batch_size, -1).to(device))\n",
    "    sample_recon = make_grid(v_recon.view(conf.batch_size, 1, 28, 28).data).cpu()\n",
    "    writer.add_image(f\"{model.__class__.__name__}/{str(conf)}/sample_input\", sample_img, global_step=n_iter)\n",
    "    writer.add_image(f\"{model.__class__.__name__}/{str(conf)}/sample_recon\", sample_recon, global_step=n_iter)\n",
    "#ax.legend()\n",
    "#fig.colorbar(ax)\n",
    "ax.grid(visible=True)\n",
    "writer.add_figure(f\"{model.__class__.__name__}/{str(conf)}/neuron_fireings\", fig, close=True)\n"
   ]
  },
  {
   "cell_type": "code",
   "execution_count": 8,
   "metadata": {},
   "outputs": [],
   "source": [
    "fig, ax = plt.subplots(figsize=(8, 8))\n",
    "xx = np.arange(conf.n_hid) + 1\n",
    "log_xx = np.log(xx)\n",
    "\n",
    "ax.set_xlabel('Neurons')\n",
    "ax.set_ylabel('Variance explained')\n",
    "ax.set_yscale(\"log\")\n",
    "ax.set_xscale(\"log\")\n",
    "pca = PCA()\n",
    "pca.fit(vv)\n",
    "yy = pca.explained_variance_\n",
    "log_yy = np.log(yy)\n",
    "m, c = np.linalg.lstsq(np.vstack([log_xx, np.ones(len(log_xx))]).T, log_yy, rcond=None)[0]\n",
    "ax.plot(xx, yy,'.-', label=f\"epoch: {conf.n_epoch}\")\n",
    "ax.plot(xx, np.e**c * xx**m, label=f\"log y= {m:.3} log x + {c:.3}\")\n",
    "ax.legend()\n",
    "ax.grid(visible=True)\n",
    "writer.add_figure(f\"{model.__class__.__name__}/{str(conf)}/result/log\", fig)\n"
   ]
  },
  {
   "cell_type": "code",
   "execution_count": 9,
   "metadata": {},
   "outputs": [],
   "source": [
    "fig, ax = plt.subplots(figsize=(8, 8))\n",
    "xx = np.arange(conf.n_hid) + 1\n",
    "log_xx = np.log(xx)\n",
    "\n",
    "ax.set_xlabel('Neurons')\n",
    "ax.set_ylabel('Variance explained')\n",
    "pca = PCA()\n",
    "pca.fit(vv)\n",
    "yy = pca.explained_variance_\n",
    "log_yy = np.log(yy)\n",
    "m, c = np.linalg.lstsq(np.vstack([log_xx, np.ones(len(log_xx))]).T, log_yy, rcond=None)[0]\n",
    "ax.plot(xx, yy,'.-', label=f\"epoch: {conf.n_epoch}\")\n",
    "ax.plot(xx, np.e**c * xx**m, label=f\"log y= {m:.3} log x + {c:.3}\")\n",
    "ax.legend()\n",
    "ax.set_ylim(0, np.max(yy))\n",
    "ax.grid(visible=True)\n",
    "writer.add_figure(f\"{model.__class__.__name__}/{str(conf)}/result/nonlog\", fig)"
   ]
  },
  {
   "cell_type": "code",
   "execution_count": 10,
   "metadata": {},
   "outputs": [
    {
     "name": "stdout",
     "output_type": "stream",
     "text": [
      "PYTHON plfit executed in 0.001926 seconds\n",
      "Not enough data left after flagging low S/N points.  Using all data.\n",
      "(PLFIT) Warning: finite-size bias may be present. n=16\n",
      "xmin: 1.0157 n(>xmin): 16 alpha: 63.1657 +/- 15.5414   Log-Likelihood: 49.5703   ks: 0.133854 p(ks): 0.518644\n"
     ]
    },
    {
     "name": "stderr",
     "output_type": "stream",
     "text": [
      "/home/shinzato/venv/lib/python3.8/site-packages/plfit/plfit.py:118: RuntimeWarning: divide by zero encountered in double_scalars\n",
      "  a = 1+float(n) / sum(log(x/xmin))\n"
     ]
    }
   ],
   "source": [
    "import plfit\n",
    "\n",
    "myplfit = plfit.plfit(yy)\n"
   ]
  },
  {
   "cell_type": "code",
   "execution_count": 11,
   "metadata": {},
   "outputs": [
    {
     "data": {
      "text/plain": [
       "<AxesSubplot:xlabel='$\\\\alpha$', ylabel='KS statistic'>"
      ]
     },
     "execution_count": 11,
     "metadata": {},
     "output_type": "execute_result"
    },
    {
     "data": {
      "image/png": "[encoded data removed]",
      "text/plain": [
       "<Figure size 432x288 with 1 Axes>"
      ]
     },
     "metadata": {
      "needs_background": "light"
     },
     "output_type": "display_data"
    },
    {
     "data": {
      "image/png": "[encoded data removed]",
      "text/plain": [
       "<Figure size 432x288 with 1 Axes>"
      ]
     },
     "metadata": {
      "needs_background": "light"
     },
     "output_type": "display_data"
    },
    {
     "data": {
      "image/png": "[encoded data removed]",
      "text/plain": [
       "<Figure size 432x288 with 1 Axes>"
      ]
     },
     "metadata": {
      "needs_background": "light"
     },
     "output_type": "display_data"
    }
   ],
   "source": [
    "# generate some plots\n",
    "from pylab import *\n",
    "figure(1)\n",
    "myplfit.plotpdf()\n",
    "\n",
    "figure(2)\n",
    "myplfit.plotcdf()\n",
    "\n",
    "figure(3)\n",
    "myplfit.alphavsks()"
   ]
  },
  {
   "cell_type": "code",
   "execution_count": null,
   "metadata": {},
   "outputs": [],
   "source": []
  },
  {
   "cell_type": "code",
   "execution_count": 12,
   "metadata": {},
   "outputs": [],
   "source": [
    "\n",
    "vv = np.zeros((len(test_datasets), conf.n_hid))\n",
    "vvlabel = np.zeros(len(test_datasets), dtype=np.int32)\n",
    "dataimg = np.zeros((len(test_datasets), conf.n_vis))\n",
    "\n",
    "for idx, (data, target) in enumerate(test_loader):\n",
    "    batch_size = data.size(0)\n",
    "    vv[idx*batch_size:(idx+1)*batch_size, :] = model.encode(data.view(-1, conf.n_vis).to(device)).detach().cpu().numpy()\n",
    "    vvlabel[idx*batch_size:(idx+1)*batch_size] = target\n",
    "    dataimg[idx*batch_size:(idx+1)*batch_size, :] = data.view(batch_size, -1)\n",
    "\n",
    "dataimg = torch.from_numpy(dataimg.reshape(-1, 1, 28, 28))"
   ]
  },
  {
   "cell_type": "code",
   "execution_count": 13,
   "metadata": {},
   "outputs": [],
   "source": [
    "writer.add_embedding(vv, metadata=vvlabel, label_img=dataimg, tag=f\"{model.__class__.__name__}/{str(conf)}/projector\")"
   ]
  },
  {
   "cell_type": "markdown",
   "metadata": {},
   "source": []
  }
 ],
 "metadata": {
  "interpreter": {
   "hash": "25554aa828a01445f449ceb07a62b018f5dc6eacf1fdadcd1881e8950d47054e"
  },
  "kernelspec": {
   "display_name": "Python 3.8.2 64-bit ('venv': venv)",
   "language": "python",
   "name": "python3"
  },
  "language_info": {
   "codemirror_mode": {
    "name": "ipython",
    "version": 3
   },
   "file_extension": ".py",
   "mimetype": "text/x-python",
   "name": "python",
   "nbconvert_exporter": "python",
   "pygments_lexer": "ipython3",
   "version": "3.8.2"
  },
  "orig_nbformat": 4
 },
 "nbformat": 4,
 "nbformat_minor": 2
}
